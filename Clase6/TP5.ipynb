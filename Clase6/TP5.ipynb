{
 "cells": [
  {
   "cell_type": "code",
   "execution_count": null,
   "metadata": {},
   "outputs": [],
   "source": [
    "#Si queremos que las imágenes sean mostradas en una ventana emergente quitar el inline\n",
    "# %matplotlib inline\n",
    "%matplotlib\n",
    "\n",
    "# Importamos las librerías necesarias\n",
    "import numpy as np\n",
    "import cv2 as cv\n",
    "import time\n",
    "import matplotlib.pyplot as plt"
   ]
  },
  {
   "cell_type": "code",
   "execution_count": null,
   "metadata": {},
   "outputs": [],
   "source": [
    "# Puntero a la webcam\n",
    "# -------------------\n",
    "cap = cv.VideoCapture(0)\n",
    "time.sleep(1) # Para garantizar la correcta inicializacion de la webcam\n",
    "\n",
    "# Tomamos el primer frame del video (donde vamos a definir la ROI)\n",
    "#-----------------------------------------------------------------\n",
    "ret,frame = cap.read()\n",
    "cv.imwrite('Frame1.jpg',frame)\n",
    "plt.figure('frame')\n",
    "plt.imshow(frame)\n",
    "\n",
    "# Obtenemos la resolucion de la imagen\n",
    "# ------------------------------------\n",
    "frame_width = int(cap.get(3))\n",
    "frame_height = int(cap.get(4))"
   ]
  },
  {
   "cell_type": "code",
   "execution_count": null,
   "metadata": {},
   "outputs": [],
   "source": [
    "# Seleccionamos la ROI con el mouse, presionando enter al finalizar\n",
    "# -----------------------------------------------------------------\n",
    "ROI = cv.selectROI('frame',frame, False, False)\n",
    "x, y, w, h = ROI\n",
    "track_window = (x, y, w, h)"
   ]
  },
  {
   "cell_type": "code",
   "execution_count": null,
   "metadata": {},
   "outputs": [],
   "source": [
    "# Una vez definida la ROI recortamos esa parte de la imagen que utilizaremos para seguimiento\n",
    "#--------------------------------------------------------------------------------------------\n",
    "roi = frame[y:y+h, x:x+w]\n",
    "# Pasamos la ROI a HSV (los valores de H son más estables a cambios de intensidad)\n",
    "hsv_roi =  cv.cvtColor(roi, cv.COLOR_BGR2HSV)\n",
    "# Definimos una máscara para el histograma (Hue: 0..180, Saturation:60..255, Value:32..255)\n",
    "mask = cv.inRange(hsv_roi, np.array((0., 60.,32.)), np.array((180.,255.,255.)))\n",
    "# Y calculamos el histograma sobre esa máscara (toma solo el Hue: tonalidad)\n",
    "roi_hist = cv.calcHist([hsv_roi],[0],mask,[180],[0,180])\n",
    "# Normalizamos el histograma (entre 0 y 255 según indica el flag cv.NORM_MINMAX)\n",
    "cv.normalize(roi_hist,roi_hist,0,255,cv.NORM_MINMAX)\n",
    "\n",
    "# Mostramos lo que se fue armando en relación a la ROI\n",
    "#-----------------------------------------------------\n",
    "plt.figure()\n",
    "plt.imshow(mask)"
   ]
  },
  {
   "cell_type": "code",
   "execution_count": null,
   "metadata": {},
   "outputs": [],
   "source": [
    "# Condición de terminación: 10 iteraciones o moverse al menos 1pt\n",
    "#----------------------------------------------------------------\n",
    "term_crit = ( cv.TERM_CRITERIA_EPS | cv.TERM_CRITERIA_COUNT, 1, 10 )\n",
    "\n",
    "# Elegimos la duracion del video a capturar\n",
    "#------------------------------------------\n",
    "timeout = 40 # segundos\n",
    "timeout_start = time.time()\n",
    "\n",
    "# Definimos el archivo de salida del video\n",
    "# ----------------------------------------\n",
    "out = cv.VideoWriter('Output.mp4',cv.VideoWriter_fourcc('M','J','P','G'), 10, (frame_width,frame_height))\n",
    "\n",
    "while time.time() < timeout_start + timeout:\n",
    "    ret, frame = cap.read()\n",
    "    if ret == True:\n",
    "        hsv = cv.cvtColor(frame, cv.COLOR_BGR2HSV)\n",
    "        dst = cv.calcBackProject([hsv],[0],roi_hist,[0,180],1)\n",
    "        \n",
    "        # Aplicamos camshift al nuevo frame\n",
    "        #----------------------------------\n",
    "        ret, track_window = cv.CamShift(dst, track_window, term_crit)\n",
    "        \n",
    "        \n",
    "        # Con escalamiento de ventana - Sin rotación\n",
    "        #-------------------------------------------\n",
    "        x,y,w,h = track_window\n",
    "        img2 = cv.rectangle(frame, (x,y), (x+w,y+h), 255,2)\n",
    "        \n",
    "        out.write(img2)\n",
    "        cv.imshow('Seguimiento',img2)\n",
    "        \n",
    "        k = cv.waitKey(30) & 0xff\n",
    "        if k == 27:\n",
    "            break\n",
    "    else:\n",
    "        break\n",
    "cv.destroyAllWindows()\n",
    "cap.release()"
   ]
  },
  {
   "cell_type": "code",
   "execution_count": null,
   "metadata": {},
   "outputs": [],
   "source": []
  }
 ],
 "metadata": {
  "kernelspec": {
   "display_name": "Python 3",
   "language": "python",
   "name": "python3"
  },
  "language_info": {
   "codemirror_mode": {
    "name": "ipython",
    "version": 3
   },
   "file_extension": ".py",
   "mimetype": "text/x-python",
   "name": "python",
   "nbconvert_exporter": "python",
   "pygments_lexer": "ipython3",
   "version": "3.7.9"
  }
 },
 "nbformat": 4,
 "nbformat_minor": 4
}
