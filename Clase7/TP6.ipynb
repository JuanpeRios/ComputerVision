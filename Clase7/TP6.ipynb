{
 "cells": [
  {
   "cell_type": "code",
   "execution_count": null,
   "metadata": {},
   "outputs": [],
   "source": [
    "#Si queremos que las imágenes sean mostradas en una ventana emergente quitar el inline\n",
    "# %matplotlib inline\n",
    "%matplotlib\n",
    "\n",
    "import cv2 as cv\n",
    "import time\n",
    "import matplotlib.pyplot as plt"
   ]
  },
  {
   "cell_type": "code",
   "execution_count": null,
   "metadata": {},
   "outputs": [],
   "source": [
    "# Leemos los clasificadores pre-entrenados (instalados en cv2/data/haarcascades/)\n",
    "#--------------------------------------------------------------------------------\n",
    "\n",
    "face_cascade = cv.CascadeClassifier('/Users/juanpedroriosurquidi/env/lib/python3.7/site-packages/cv2/data/haarcascade_frontalface_default.xml')\n",
    "eye_cascade = cv.CascadeClassifier('/Users/juanpedroriosurquidi/env/lib/python3.7/site-packages/cv2/data/haarcascade_eye.xml')\n",
    "smile_cascade = cv.CascadeClassifier('/Users/juanpedroriosurquidi/env/lib/python3.7/site-packages/cv2/data/haarcascade_smile.xml')\n",
    "\n"
   ]
  },
  {
   "cell_type": "code",
   "execution_count": null,
   "metadata": {},
   "outputs": [],
   "source": [
    "cap = cv.VideoCapture(0)\n",
    "time.sleep(1) # Para garantizar la correcta inicializacion de la webcam\n",
    "\n",
    "ret,frame = cap.read()\n",
    "frameRGB = cv.cvtColor(frame, cv.COLOR_BGR2RGB)\n",
    "plt.figure('frame')\n",
    "plt.imshow(frameRGB)\n",
    "\n",
    "# Obtenemos la resolucion de la imagen\n",
    "# ------------------------------------\n",
    "frame_width = int(cap.get(3))\n",
    "frame_height = int(cap.get(4))"
   ]
  },
  {
   "cell_type": "code",
   "execution_count": null,
   "metadata": {},
   "outputs": [],
   "source": [
    "grayframe = cv.cvtColor(frame, cv.COLOR_BGR2GRAY)\n",
    "grayframe = cv.equalizeHist(grayframe)\n",
    "\n",
    "# Llamamos al clasificador de Haar (AdaBoost)\n",
    "#--------------------------------------------\n",
    "faces = face_cascade.detectMultiScale(grayframe, 1.1, 5)#, minSize= (100,130),maxSize=(200,400))\n",
    "\n",
    "# Recorro las caras encontradas\n",
    "#------------------------------\n",
    "for (x,y,w,h) in faces:\n",
    "    # Le dibujamos un rectángulo amarillo\n",
    "    cv.rectangle(frame,(x,y),(x+w,y+h),(255,255,0),2)\n",
    "    # Definimos las ROIs en la imagen gris y color\n",
    "    roi_gray = grayframe[y:y+h, x:x+w] \n",
    "    roi_color = frame[y:y+h, x:x+w] \n",
    "    # Para cada rostro hallado le buscamos los ojos\n",
    "    eyes = eye_cascade.detectMultiScale(roi_gray, 1.1, 3)\n",
    "    # En los ojos hallados les dibujamos rectángulos\n",
    "    for (ex,ey,ew,eh) in eyes:\n",
    "        cv.rectangle(roi_color,(ex,ey),(ex+ew,ey+eh),(0,255,0),2)\n",
    "    # Para cada rostro hallado le buscamos la sonrisa\n",
    "    smile = smile_cascade.detectMultiScale(roi_gray, 1.5, 5)\n",
    "    # En las sonrisas halladas les dibujamos rectángulos\n",
    "    for (sx,sy,sw,sh) in smile:\n",
    "        cv.rectangle(roi_color,(sx,sy),(sx+sw,sy+sh),(0,255,255),2)\n",
    "    \n",
    "cv.imshow('Deteccion de caras con filtros de Haar en cascada',frame) \n",
    "\n",
    "cv.waitKey(0)\n",
    "cv.destroyAllWindows()"
   ]
  },
  {
   "cell_type": "code",
   "execution_count": null,
   "metadata": {},
   "outputs": [],
   "source": []
  }
 ],
 "metadata": {
  "kernelspec": {
   "display_name": "Python 3",
   "language": "python",
   "name": "python3"
  },
  "language_info": {
   "codemirror_mode": {
    "name": "ipython",
    "version": 3
   },
   "file_extension": ".py",
   "mimetype": "text/x-python",
   "name": "python",
   "nbconvert_exporter": "python",
   "pygments_lexer": "ipython3",
   "version": "3.7.9"
  }
 },
 "nbformat": 4,
 "nbformat_minor": 4
}
