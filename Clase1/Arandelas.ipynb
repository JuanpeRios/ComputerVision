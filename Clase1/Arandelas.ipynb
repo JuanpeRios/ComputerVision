{
 "cells": [
  {
   "cell_type": "code",
   "execution_count": 1,
   "metadata": {},
   "outputs": [
    {
     "name": "stdout",
     "output_type": "stream",
     "text": [
      "Using matplotlib backend: MacOSX\n"
     ]
    }
   ],
   "source": [
    "#Si queremos que las imágenes sean mostradas en una ventana emergente quitar el inline\n",
    "%matplotlib\n",
    "\n",
    "# OpenCV-Python utiliza NumPy para el manejo de imágenes\n",
    "import numpy as np\n",
    "# cv2 es el módulo python para acceder a OpenCV \n",
    "import cv2 as cv\n",
    "# Usamos las poderosas herramientas de graficación de matplotlib para mostrar imágenes, perfiles, histogramas, etc\n",
    "import matplotlib.pyplot as plt\n"
   ]
  },
  {
   "cell_type": "code",
   "execution_count": 2,
   "metadata": {},
   "outputs": [],
   "source": [
    "# Cargar la imagen color\n",
    "#-----------------------\n",
    "img_color = cv.imread('arandelas.png')\n",
    "imgRGB = cv.cvtColor(img_color, cv.COLOR_BGR2RGB)\n",
    "\n",
    "plt.figure(1)\n",
    "plt.imshow(imgRGB)\n",
    "plt.show()"
   ]
  },
  {
   "cell_type": "code",
   "execution_count": 3,
   "metadata": {},
   "outputs": [
    {
     "name": "stdout",
     "output_type": "stream",
     "text": [
      "[[ 74.2312]\n",
      " [197.4364]\n",
      " [111.914 ]]\n",
      "[[0.47428531]\n",
      " [4.626657  ]\n",
      " [2.35987373]]\n"
     ]
    }
   ],
   "source": [
    "# Pasamos la imagen a HSV y calculo el color de muestra\n",
    "#------------------------------------------------------\n",
    "img_HSV = cv.cvtColor(img_color, cv.COLOR_BGR2HSV)\n",
    "plt.figure(2)\n",
    "plt.imshow(img_HSV)\n",
    "\n",
    "#Elijo la muestra de la arandela naranja\n",
    "img_muestra_hsv = img_HSV[230:280,230:280,:]\n",
    "\n",
    "# Calculamos un modelo estadístico sencillo para caracterizar el color de la arandela en el espacio RGB\n",
    "color_mean, color_std = cv.meanStdDev(img_muestra_hsv)\n",
    "std = float(color_std[0])\n",
    "    \n",
    "print(color_mean)\n",
    "print(color_std)"
   ]
  },
  {
   "cell_type": "code",
   "execution_count": 4,
   "metadata": {},
   "outputs": [
    {
     "name": "stdout",
     "output_type": "stream",
     "text": [
      "[ 13 176 184]\n"
     ]
    }
   ],
   "source": [
    "# Cómo puedo segmentar el naranja ?\n",
    "print(img_HSV[217,381,:])"
   ]
  },
  {
   "cell_type": "code",
   "execution_count": 5,
   "metadata": {},
   "outputs": [],
   "source": [
    "color_l = (13-3*std,100,100)\n",
    "color_u = (13+3*std,255,255)\n",
    "\n",
    "mask = cv.inRange(img_HSV, color_l,  color_u)\n",
    "img_segmentada = cv.bitwise_and(imgRGB, imgRGB, mask=mask)\n",
    "\n",
    "plt.figure(3)\n",
    "plt.imshow(img_segmentada)\n",
    "plt.show()\n"
   ]
  },
  {
   "cell_type": "code",
   "execution_count": null,
   "metadata": {},
   "outputs": [],
   "source": []
  }
 ],
 "metadata": {
  "kernelspec": {
   "display_name": "Python 3",
   "language": "python",
   "name": "python3"
  },
  "language_info": {
   "codemirror_mode": {
    "name": "ipython",
    "version": 3
   },
   "file_extension": ".py",
   "mimetype": "text/x-python",
   "name": "python",
   "nbconvert_exporter": "python",
   "pygments_lexer": "ipython3",
   "version": "3.8.3"
  }
 },
 "nbformat": 4,
 "nbformat_minor": 4
}
