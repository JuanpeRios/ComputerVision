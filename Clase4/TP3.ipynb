{
 "cells": [
  {
   "cell_type": "code",
   "execution_count": null,
   "metadata": {},
   "outputs": [],
   "source": [
    "#Si queremos que las imágenes sean mostradas en una ventana emergente quitar el inline\n",
    "%matplotlib inline\n",
    "# %matplotlib\n",
    "\n",
    "# OpenCV-Python utiliza NumPy para el manejo de imágenes\n",
    "import numpy as np\n",
    "# cv2 es el módulo python para acceder a OpenCV \n",
    "import cv2 as cv\n",
    "# Usamos las poderosas herramientas de graficación de matplotlib para mostrar imágenes, perfiles, histogramas, etc\n",
    "import matplotlib.pyplot as plt"
   ]
  },
  {
   "cell_type": "code",
   "execution_count": null,
   "metadata": {},
   "outputs": [],
   "source": [
    "# Leemos la imagen\n",
    "#=================\n",
    "img = cv.imread('eyes.jpg')\n",
    "gray = cv.cvtColor(img,cv.COLOR_BGR2GRAY)\n",
    "\n",
    "# Suavizamos la imagen\n",
    "#=====================\n",
    "gray = cv.medianBlur(gray,5)\n",
    "\n",
    "cv.imshow('Ojos',gray)\n",
    "cv.waitKey(0)\n",
    "cv.destroyAllWindows()"
   ]
  },
  {
   "cell_type": "code",
   "execution_count": null,
   "metadata": {},
   "outputs": [],
   "source": [
    "#Deteccion de Iris en los ojos\n",
    "#===================================================================\n",
    "img_out = img.copy()\n",
    "circles = cv.HoughCircles(gray,cv.HOUGH_GRADIENT,1,minDist=80,param1=160,param2=20,minRadius=30,maxRadius=40)\n",
    "\n",
    "circles = np.uint16(np.around(circles))\n",
    "for i in circles[0,:]:\n",
    "    # Dibujamos el círculo externo\n",
    "    cv.circle(img_out,(i[0],i[1]),i[2],(0,255,0),2)\n",
    "    # Dibujamos el centro del círculo\n",
    "    cv.circle(img_out,(i[0],i[1]),2,(0,0,255),3)\n",
    "\n",
    "\n",
    "circles=circles.reshape(10,3)\n",
    "aux = np.argsort(circles,axis=0)[:,1]\n",
    "circles = circles[aux]\n",
    "ojos = circles[:,0:2]\n",
    "\n",
    "dist1 = np.sqrt(np.linalg.norm(ojos[0]-ojos[1]))\n",
    "dist2 = np.sqrt(np.linalg.norm(ojos[2]-ojos[3]))\n",
    "dist3 = np.sqrt(np.linalg.norm(ojos[4]-ojos[5]))\n",
    "dist4 = np.sqrt(np.linalg.norm(ojos[6]-ojos[7]))\n",
    "dist5 = np.sqrt(np.linalg.norm(ojos[8]-ojos[9]))\n",
    "\n",
    "print(dist1)\n",
    "print(dist2)\n",
    "print(dist3)\n",
    "print(dist4)\n",
    "print(dist5)\n",
    "\n",
    "cv.imshow('Iris detectados',img_out)\n",
    "cv.waitKey(0)\n",
    "cv.destroyAllWindows()"
   ]
  },
  {
   "cell_type": "code",
   "execution_count": null,
   "metadata": {},
   "outputs": [],
   "source": [
    "#Deteccion de Pupilas en los ojos\n",
    "#===================================================================\n",
    "img_out2 = img.copy()\n",
    "circles2 = cv.HoughCircles(gray,cv.HOUGH_GRADIENT,1,minDist=40,param1=120,param2=20,minRadius=5,maxRadius=20)\n",
    "\n",
    "circles2 = np.uint16(np.around(circles2))\n",
    "for i in circles2[0,:]:\n",
    "    # Dibujamos el círculo externo\n",
    "    cv.circle(img_out2,(i[0],i[1]),i[2],(0,255,0),2)\n",
    "    # Dibujamos el centro del círculo\n",
    "    cv.circle(img_out2,(i[0],i[1]),2,(0,0,255),3)\n",
    "\n",
    "\n",
    "circles2=circles2.reshape(10,3)\n",
    "aux2 = np.argsort(circles2,axis=0)[:,1]\n",
    "circles2 = circles2[aux2]\n",
    "pupilas = circles2[:,0:2]\n",
    "\n",
    "dist1 = np.sqrt(np.linalg.norm(pupilas[0]-pupilas[1]))\n",
    "dist2 = np.sqrt(np.linalg.norm(pupilas[2]-pupilas[3]))\n",
    "dist3 = np.sqrt(np.linalg.norm(pupilas[4]-pupilas[5]))\n",
    "dist4 = np.sqrt(np.linalg.norm(pupilas[6]-pupilas[7]))\n",
    "dist5 = np.sqrt(np.linalg.norm(pupilas[8]-pupilas[9]))\n",
    "\n",
    "print(dist1)\n",
    "print(dist2)\n",
    "print(dist3)\n",
    "print(dist4)\n",
    "print(dist5)\n",
    "\n",
    "cv.imshow('Pupilas detectadas',img_out2)\n",
    "cv.waitKey(0)\n",
    "cv.destroyAllWindows()"
   ]
  },
  {
   "cell_type": "code",
   "execution_count": null,
   "metadata": {},
   "outputs": [],
   "source": []
  }
 ],
 "metadata": {
  "kernelspec": {
   "display_name": "Python 3",
   "language": "python",
   "name": "python3"
  },
  "language_info": {
   "codemirror_mode": {
    "name": "ipython",
    "version": 3
   },
   "file_extension": ".py",
   "mimetype": "text/x-python",
   "name": "python",
   "nbconvert_exporter": "python",
   "pygments_lexer": "ipython3",
   "version": "3.7.9"
  }
 },
 "nbformat": 4,
 "nbformat_minor": 4
}
