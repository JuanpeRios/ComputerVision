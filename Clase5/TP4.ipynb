{
 "cells": [
  {
   "cell_type": "code",
   "execution_count": null,
   "metadata": {},
   "outputs": [],
   "source": [
    "# Si queremos que las imágenes sean mostradas en una ventana emergente quitar el inline\n",
    "# %matplotlib inline\n",
    "%matplotlib\n",
    "\n",
    "# OpenCV-Python utiliza NumPy para el manejo de imágenes\n",
    "import numpy as np\n",
    "# cv2 es el módulo python para acceder a OpenCV \n",
    "import cv2 as cv\n",
    "# Usamos las poderosas herramientas de graficación de matplotlib para mostrar imágenes, perfiles, histogramas, etc\n",
    "import matplotlib.pyplot as plt"
   ]
  },
  {
   "cell_type": "code",
   "execution_count": null,
   "metadata": {},
   "outputs": [],
   "source": [
    "class MyValidationError(Exception):\n",
    "    pass\n",
    "\n",
    "def LBP_Pixel(matriz):\n",
    "    n,m = matriz.shape\n",
    "    if (n!=3)and(m!=3):\n",
    "        raise MyValidationError(\"La matriz debe ser de 3x3\")\n",
    "        return -1\n",
    "    else:\n",
    "        centro = matriz[1,1]\n",
    "        LBP = (centro>matriz[1,0]) + (centro>matriz[2,0])*2 + (centro>matriz[2,1])*4 + (centro>matriz[2,2])*8 + (centro>matriz[1,2])*16 + (centro>matriz[0,2])*32 + (centro>matriz[0,1])*64 + (centro>matriz[0,0])*128\n",
    "        return LBP\n",
    "\n",
    "def LBP_Filter(matriz):\n",
    "    aux = matriz*0\n",
    "    n,m = matriz.shape\n",
    "    for i in range(1,n-1):\n",
    "        for j in range(1,m-1):\n",
    "            filtro = matriz[i-1:i+2,j-1:j+2]\n",
    "            aux[i,j] = LBP_Pixel(filtro)\n",
    "    aux = aux[1:n,1:m]\n",
    "    return aux"
   ]
  },
  {
   "cell_type": "code",
   "execution_count": null,
   "metadata": {},
   "outputs": [],
   "source": [
    "# Cargamos la imagen\n",
    "\n",
    "# img = cv.imread('piedras1.png')\n",
    "# img = cv.imread('piedras2.png')\n",
    "img = cv.imread('cielo.png')\n",
    "# img = cv.imread('ladrillos1.png')\n",
    "# img = cv.imread('ladrillos2.png')\n",
    "# img = cv.imread('oveja1.png')\n",
    "# img = cv.imread('oveja2.png')\n",
    "\n",
    "# La transformamos a escala de grises\n",
    "gray = cv.cvtColor(img,cv.COLOR_BGR2GRAY)"
   ]
  },
  {
   "cell_type": "code",
   "execution_count": null,
   "metadata": {},
   "outputs": [],
   "source": [
    "imgLBP = LBP_Filter(gray)\n",
    "\n",
    "cv.imshow('LBP',imgLBP)\n",
    "\n",
    "# plt.imshow(imgLBP)\n",
    "# plt.show()"
   ]
  },
  {
   "cell_type": "code",
   "execution_count": null,
   "metadata": {},
   "outputs": [],
   "source": [
    "# help(cv.calcHist)\n",
    "# hist = cv.calcHist([imgLBP],[0],None,[256],[0,256])\n",
    "plt.hist(imgLBP.ravel(),256,[0,256])\n",
    "plt.show()"
   ]
  },
  {
   "cell_type": "code",
   "execution_count": null,
   "metadata": {},
   "outputs": [],
   "source": []
  }
 ],
 "metadata": {
  "kernelspec": {
   "display_name": "Python 3",
   "language": "python",
   "name": "python3"
  },
  "language_info": {
   "codemirror_mode": {
    "name": "ipython",
    "version": 3
   },
   "file_extension": ".py",
   "mimetype": "text/x-python",
   "name": "python",
   "nbconvert_exporter": "python",
   "pygments_lexer": "ipython3",
   "version": "3.7.9"
  }
 },
 "nbformat": 4,
 "nbformat_minor": 4
}
